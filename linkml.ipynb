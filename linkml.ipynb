{
 "cells": [
  {
   "cell_type": "markdown",
   "metadata": {},
   "source": [
    "# LinkML - Linked Data Modelling Language\n",
    "\n",
    "## Tutorial\n",
    "\n",
    "Data from https://linkml.io/linkml/intro/tutorial.html"
   ]
  },
  {
   "cell_type": "markdown",
   "metadata": {},
   "source": [
    "Convert YAML data to RDF:"
   ]
  },
  {
   "cell_type": "code",
   "execution_count": 66,
   "metadata": {},
   "outputs": [
    {
     "name": "stderr",
     "output_type": "stream",
     "text": [
      "C:\\Users\\benedikt.hitz\\venvs\\linkml\\lib\\site-packages\\linkml_runtime\\linkml_model\\model\\schema\\types does not look like a valid URI, trying to serialize this will break.\n",
      "C:\\Users\\benedikt.hitz\\venvs\\linkml\\lib\\site-packages\\linkml_runtime\\linkml_model\\model\\schema\\types does not look like a valid URI, trying to serialize this will break.\n",
      "C:\\Users\\benedikt.hitz\\venvs\\linkml\\lib\\site-packages\\linkml_runtime\\linkml_model\\model\\schema\\types does not look like a valid URI, trying to serialize this will break.\n"
     ]
    }
   ],
   "source": [
    "!linkml-convert -s personinfo/schema.yaml -t rdf personinfo/data.yaml > personinfo/data.ttl"
   ]
  },
  {
   "cell_type": "markdown",
   "metadata": {},
   "source": [
    "## ch.paf.link\n",
    "\n",
    "Goal: Rebuild the ch.paf.link RDF data schema with LinkML and try to export schema and data in various formats."
   ]
  },
  {
   "cell_type": "markdown",
   "metadata": {},
   "source": [
    "Convert YAML data to RDF:"
   ]
  },
  {
   "cell_type": "code",
   "execution_count": 67,
   "metadata": {},
   "outputs": [
    {
     "name": "stderr",
     "output_type": "stream",
     "text": [
      "C:\\Users\\benedikt.hitz\\venvs\\linkml\\lib\\site-packages\\linkml_runtime\\linkml_model\\model\\schema\\types does not look like a valid URI, trying to serialize this will break.\n",
      "C:\\Users\\benedikt.hitz\\venvs\\linkml\\lib\\site-packages\\linkml_runtime\\linkml_model\\model\\schema\\types does not look like a valid URI, trying to serialize this will break.\n",
      "C:\\Users\\benedikt.hitz\\venvs\\linkml\\lib\\site-packages\\linkml_runtime\\linkml_model\\model\\schema\\types does not look like a valid URI, trying to serialize this will break.\n"
     ]
    }
   ],
   "source": [
    "!linkml-convert -s ch-paf-link/schema.yaml -t rdf ch-paf-link/data.yaml > ch-paf-link/data.ttl"
   ]
  },
  {
   "cell_type": "markdown",
   "metadata": {},
   "source": [
    "Export schema as OWL:"
   ]
  },
  {
   "cell_type": "code",
   "execution_count": 68,
   "metadata": {},
   "outputs": [
    {
     "name": "stderr",
     "output_type": "stream",
     "text": [
      "WARNING:rdflib.term:C:\\Users\\benedikt.hitz\\venvs\\linkml\\lib\\site-packages\\linkml_runtime\\linkml_model\\model\\schema\\types does not look like a valid URI, trying to serialize this will break.\n",
      "WARNING:rdflib.term:C:\\Users\\benedikt.hitz\\venvs\\linkml\\lib\\site-packages\\linkml_runtime\\linkml_model\\model\\schema\\units does not look like a valid URI, trying to serialize this will break.\n",
      "WARNING:rdflib.term:C:\\Users\\benedikt.hitz\\venvs\\linkml\\lib\\site-packages\\linkml_runtime\\linkml_model\\model\\schema\\mappings does not look like a valid URI, trying to serialize this will break.\n",
      "WARNING:rdflib.term:C:\\Users\\benedikt.hitz\\venvs\\linkml\\lib\\site-packages\\linkml_runtime\\linkml_model\\model\\schema\\types does not look like a valid URI, trying to serialize this will break.\n",
      "WARNING:rdflib.term:C:\\Users\\benedikt.hitz\\venvs\\linkml\\lib\\site-packages\\linkml_runtime\\linkml_model\\model\\schema\\annotations does not look like a valid URI, trying to serialize this will break.\n",
      "WARNING:rdflib.term:C:\\Users\\benedikt.hitz\\venvs\\linkml\\lib\\site-packages\\linkml_runtime\\linkml_model\\model\\schema\\extensions does not look like a valid URI, trying to serialize this will break.\n"
     ]
    }
   ],
   "source": [
    "!gen-owl ch-paf-link/schema.yaml > ch-paf-link/schema.ttl"
   ]
  },
  {
   "cell_type": "markdown",
   "metadata": {},
   "source": [
    "Convert YAML data to JSON:"
   ]
  },
  {
   "cell_type": "code",
   "execution_count": 69,
   "metadata": {},
   "outputs": [
    {
     "name": "stderr",
     "output_type": "stream",
     "text": [
      "C:\\Users\\benedikt.hitz\\venvs\\linkml\\lib\\site-packages\\linkml_runtime\\linkml_model\\model\\schema\\types does not look like a valid URI, trying to serialize this will break.\n",
      "C:\\Users\\benedikt.hitz\\venvs\\linkml\\lib\\site-packages\\linkml_runtime\\linkml_model\\model\\schema\\types does not look like a valid URI, trying to serialize this will break.\n",
      "C:\\Users\\benedikt.hitz\\venvs\\linkml\\lib\\site-packages\\linkml_runtime\\linkml_model\\model\\schema\\types does not look like a valid URI, trying to serialize this will break.\n"
     ]
    }
   ],
   "source": [
    "!linkml-convert -s ch-paf-link/schema.yaml -t json ch-paf-link/data.yaml > ch-paf-link/data.json"
   ]
  }
 ],
 "metadata": {
  "kernelspec": {
   "display_name": "linkml",
   "language": "python",
   "name": "python3"
  },
  "language_info": {
   "codemirror_mode": {
    "name": "ipython",
    "version": 3
   },
   "file_extension": ".py",
   "mimetype": "text/x-python",
   "name": "python",
   "nbconvert_exporter": "python",
   "pygments_lexer": "ipython3",
   "version": "3.8.19"
  }
 },
 "nbformat": 4,
 "nbformat_minor": 2
}
