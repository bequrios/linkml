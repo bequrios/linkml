{
 "cells": [
  {
   "cell_type": "markdown",
   "metadata": {},
   "source": [
    "# LinkML - Linked Data Modelling Language\n",
    "\n",
    "## Tutorial\n",
    "\n",
    "Data from https://linkml.io/linkml/intro/tutorial.html"
   ]
  },
  {
   "cell_type": "markdown",
   "metadata": {},
   "source": [
    "Convert YAML data to RDF:"
   ]
  },
  {
   "cell_type": "code",
   "execution_count": 159,
   "metadata": {},
   "outputs": [
    {
     "name": "stderr",
     "output_type": "stream",
     "text": [
      "C:\\Users\\benedikt.hitz\\venvs\\linkml\\lib\\site-packages\\linkml_runtime\\linkml_model\\model\\schema\\types does not look like a valid URI, trying to serialize this will break.\n",
      "C:\\Users\\benedikt.hitz\\venvs\\linkml\\lib\\site-packages\\linkml_runtime\\linkml_model\\model\\schema\\types does not look like a valid URI, trying to serialize this will break.\n",
      "C:\\Users\\benedikt.hitz\\venvs\\linkml\\lib\\site-packages\\linkml_runtime\\linkml_model\\model\\schema\\types does not look like a valid URI, trying to serialize this will break.\n"
     ]
    }
   ],
   "source": [
    "!linkml-convert -s personinfo/schema.yaml -t rdf personinfo/data.yaml > personinfo/data.ttl"
   ]
  },
  {
   "cell_type": "markdown",
   "metadata": {},
   "source": [
    "## ch.paf.link\n",
    "\n",
    "Goal: Rebuild the ch.paf.link RDF data schema with LinkML and try to export schema and data in various formats."
   ]
  },
  {
   "cell_type": "markdown",
   "metadata": {},
   "source": [
    "### Data Conversion\n",
    "\n",
    "Convert YAML data to RDF:"
   ]
  },
  {
   "cell_type": "code",
   "execution_count": null,
   "metadata": {},
   "outputs": [
    {
     "ename": "",
     "evalue": "",
     "output_type": "error",
     "traceback": [
      "\u001b[1;31mFailed to start the Kernel. \n",
      "\u001b[1;31mTraceback (most recent call last):\n",
      "\u001b[1;31m  File \"/Users/hib1/opt/miniconda3/lib/python3.9/runpy.py\", line 197, in _run_module_as_main\n",
      "\u001b[1;31m    return _run_code(code, main_globals, None,\n",
      "\u001b[1;31m  File \"/Users/hib1/opt/miniconda3/lib/python3.9/runpy.py\", line 87, in _run_code\n",
      "\u001b[1;31m    exec(code, run_globals)\n",
      "\u001b[1;31m  File \"/Users/hib1/venvs/linkml/lib/python3.9/site-packages/ipykernel_launcher.py\", line 16, in <module>\n",
      "\u001b[1;31m    from ipykernel import kernelapp as app\n",
      "\u001b[1;31m  File \"/Users/hib1/venvs/linkml/lib/python3.9/site-packages/ipykernel/kernelapp.py\", line 21, in <module>\n",
      "\u001b[1;31m    from IPython.core.application import (  # type:ignore[attr-defined]\n",
      "\u001b[1;31m  File \"/Users/hib1/venvs/linkml/lib/python3.9/site-packages/IPython/__init__.py\", line 54, in <module>\n",
      "\u001b[1;31m    from .terminal.embed import embed\n",
      "\u001b[1;31m  File \"/Users/hib1/venvs/linkml/lib/python3.9/site-packages/IPython/terminal/embed.py\", line 15, in <module>\n",
      "\u001b[1;31m    from IPython.core.interactiveshell import DummyMod, InteractiveShell\n",
      "\u001b[1;31m  File \"/Users/hib1/venvs/linkml/lib/python3.9/site-packages/IPython/core/interactiveshell.py\", line 97, in <module>\n",
      "\u001b[1;31m    from IPython.core.history import HistoryManager\n",
      "\u001b[1;31m  File \"/Users/hib1/venvs/linkml/lib/python3.9/site-packages/IPython/core/history.py\", line 11, in <module>\n",
      "\u001b[1;31m    import sqlite3\n",
      "\u001b[1;31m  File \"/Users/hib1/opt/miniconda3/lib/python3.9/sqlite3/__init__.py\", line 57, in <module>\n",
      "\u001b[1;31m    from sqlite3.dbapi2 import *\n",
      "\u001b[1;31m  File \"/Users/hib1/opt/miniconda3/lib/python3.9/sqlite3/dbapi2.py\", line 27, in <module>\n",
      "\u001b[1;31m    from _sqlite3 import *\n",
      "\u001b[1;31mImportError: dlopen(/Users/hib1/opt/miniconda3/lib/python3.9/lib-dynload/_sqlite3.cpython-39-darwin.so, 0x0002): Symbol not found: _sqlite3_enable_load_extension\n",
      "\u001b[1;31m  Referenced from: <652EA983-680D-33BC-B17D-7EB1DC7BF1CB> /Users/hib1/opt/miniconda3/lib/python3.9/lib-dynload/_sqlite3.cpython-39-darwin.so\n",
      "\u001b[1;31m  Expected in:     <03A3F0E0-3898-360D-8138-2A6E0E43CC70> /usr/lib/libsqlite3.dylib. \n",
      "\u001b[1;31mView Jupyter <a href='command:jupyter.viewOutput'>log</a> for further details."
     ]
    }
   ],
   "source": [
    "!linkml-convert -s ch-paf-link/schema.yaml -t rdf ch-paf-link/data.yaml > ch-paf-link/data.ttl"
   ]
  },
  {
   "cell_type": "markdown",
   "metadata": {},
   "source": [
    "Remarks:\n",
    "\n",
    "- looks good\n",
    "- the `chpaf:Container` object is not needed."
   ]
  },
  {
   "cell_type": "markdown",
   "metadata": {},
   "source": [
    "Convert YAML data to JSON:"
   ]
  },
  {
   "cell_type": "code",
   "execution_count": 151,
   "metadata": {},
   "outputs": [
    {
     "name": "stderr",
     "output_type": "stream",
     "text": [
      "C:\\Users\\benedikt.hitz\\venvs\\linkml\\lib\\site-packages\\linkml_runtime\\linkml_model\\model\\schema\\types does not look like a valid URI, trying to serialize this will break.\n",
      "C:\\Users\\benedikt.hitz\\venvs\\linkml\\lib\\site-packages\\linkml_runtime\\linkml_model\\model\\schema\\types does not look like a valid URI, trying to serialize this will break.\n",
      "C:\\Users\\benedikt.hitz\\venvs\\linkml\\lib\\site-packages\\linkml_runtime\\linkml_model\\model\\schema\\types does not look like a valid URI, trying to serialize this will break.\n"
     ]
    }
   ],
   "source": [
    "!linkml-convert -s ch-paf-link/schema.yaml -t json ch-paf-link/data.yaml > ch-paf-link/data.json"
   ]
  },
  {
   "cell_type": "markdown",
   "metadata": {},
   "source": [
    "Remarks:\n",
    "\n",
    "- class for list entries is missing"
   ]
  },
  {
   "cell_type": "markdown",
   "metadata": {},
   "source": [
    "### Schema Export\n",
    "\n",
    "Export schema as JSON-LD with JSON-LD context:"
   ]
  },
  {
   "cell_type": "code",
   "execution_count": 152,
   "metadata": {},
   "outputs": [],
   "source": [
    "!gen-jsonld ch-paf-link/schema.yaml > ch-paf-link/schema.jsonld\n",
    "!gen-jsonld-context ch-paf-link/schema.yaml > ch-paf-link/context.jsonld"
   ]
  },
  {
   "cell_type": "markdown",
   "metadata": {},
   "source": [
    "Remarks:\n",
    "\n",
    "- I don't understand it at the moment"
   ]
  },
  {
   "cell_type": "markdown",
   "metadata": {},
   "source": [
    "Export schema as OWL:"
   ]
  },
  {
   "cell_type": "code",
   "execution_count": 167,
   "metadata": {},
   "outputs": [
    {
     "name": "stderr",
     "output_type": "stream",
     "text": [
      "WARNING:rdflib.term:C:\\Users\\benedikt.hitz\\venvs\\linkml\\lib\\site-packages\\linkml_runtime\\linkml_model\\model\\schema\\types does not look like a valid URI, trying to serialize this will break.\n",
      "WARNING:rdflib.term:C:\\Users\\benedikt.hitz\\venvs\\linkml\\lib\\site-packages\\linkml_runtime\\linkml_model\\model\\schema\\units does not look like a valid URI, trying to serialize this will break.\n",
      "WARNING:rdflib.term:C:\\Users\\benedikt.hitz\\venvs\\linkml\\lib\\site-packages\\linkml_runtime\\linkml_model\\model\\schema\\mappings does not look like a valid URI, trying to serialize this will break.\n",
      "WARNING:rdflib.term:C:\\Users\\benedikt.hitz\\venvs\\linkml\\lib\\site-packages\\linkml_runtime\\linkml_model\\model\\schema\\types does not look like a valid URI, trying to serialize this will break.\n",
      "WARNING:rdflib.term:C:\\Users\\benedikt.hitz\\venvs\\linkml\\lib\\site-packages\\linkml_runtime\\linkml_model\\model\\schema\\annotations does not look like a valid URI, trying to serialize this will break.\n",
      "WARNING:rdflib.term:C:\\Users\\benedikt.hitz\\venvs\\linkml\\lib\\site-packages\\linkml_runtime\\linkml_model\\model\\schema\\extensions does not look like a valid URI, trying to serialize this will break.\n"
     ]
    }
   ],
   "source": [
    "!gen-owl --no-use-native-uris ch-paf-link/schema.yaml > ch-paf-link/schema.ttl"
   ]
  },
  {
   "cell_type": "markdown",
   "metadata": {},
   "source": [
    "Remarks:\n",
    "\n",
    "- looks good\n",
    "- generates `chpaf:id` predicate that is not necessary in RDF\n",
    "- uses only the `chpaf` prefix and not the ones given in the schema.yaml file"
   ]
  }
 ],
 "metadata": {
  "kernelspec": {
   "display_name": "linkml",
   "language": "python",
   "name": "python3"
  },
  "language_info": {
   "codemirror_mode": {
    "name": "ipython",
    "version": 3
   },
   "file_extension": ".py",
   "mimetype": "text/x-python",
   "name": "python",
   "nbconvert_exporter": "python",
   "pygments_lexer": "ipython3",
   "version": "3.9.18"
  }
 },
 "nbformat": 4,
 "nbformat_minor": 2
}
