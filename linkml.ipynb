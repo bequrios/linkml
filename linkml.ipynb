{
 "cells": [
  {
   "cell_type": "markdown",
   "metadata": {},
   "source": [
    "# LinkML - Linked Data Modelling Language\n",
    "\n",
    "## Tutorial\n",
    "\n",
    "Data from https://linkml.io/linkml/intro/tutorial.html"
   ]
  },
  {
   "cell_type": "markdown",
   "metadata": {},
   "source": [
    "Convert YAML data to RDF:"
   ]
  },
  {
   "cell_type": "code",
   "execution_count": 5,
   "metadata": {},
   "outputs": [],
   "source": [
    "!linkml-convert -s personinfo/schema.yaml -t rdf personinfo/data.yaml > personinfo/data.ttl"
   ]
  },
  {
   "cell_type": "markdown",
   "metadata": {},
   "source": [
    "## ch.paf.link\n",
    "\n",
    "Goal: Rebuild the ch.paf.link RDF data schema with LinkML and try to export schema and data in various formats."
   ]
  },
  {
   "cell_type": "markdown",
   "metadata": {},
   "source": [
    "### Data Conversion\n",
    "\n",
    "Convert YAML data to RDF:"
   ]
  },
  {
   "cell_type": "code",
   "execution_count": 1,
   "metadata": {},
   "outputs": [],
   "source": [
    "!linkml-convert -s ch-paf-link/schema.yaml -t rdf ch-paf-link/data.yaml > ch-paf-link/data.ttl"
   ]
  },
  {
   "cell_type": "markdown",
   "metadata": {},
   "source": [
    "Remarks:\n",
    "\n",
    "- looks good\n",
    "- the `chpaf:Container` object is not needed."
   ]
  },
  {
   "cell_type": "markdown",
   "metadata": {},
   "source": [
    "Convert YAML data to JSON:"
   ]
  },
  {
   "cell_type": "code",
   "execution_count": 2,
   "metadata": {},
   "outputs": [],
   "source": [
    "!linkml-convert -s ch-paf-link/schema.yaml -t json ch-paf-link/data.yaml > ch-paf-link/data.json"
   ]
  },
  {
   "cell_type": "markdown",
   "metadata": {},
   "source": [
    "Remarks:\n",
    "\n",
    "- class for list entries is missing"
   ]
  },
  {
   "cell_type": "markdown",
   "metadata": {},
   "source": [
    "### Schema Export\n",
    "\n",
    "Export schema as JSON-LD with JSON-LD context:"
   ]
  },
  {
   "cell_type": "code",
   "execution_count": 3,
   "metadata": {},
   "outputs": [],
   "source": [
    "!gen-jsonld ch-paf-link/schema.yaml > ch-paf-link/schema.jsonld\n",
    "!gen-jsonld-context ch-paf-link/schema.yaml > ch-paf-link/context.jsonld"
   ]
  },
  {
   "cell_type": "markdown",
   "metadata": {},
   "source": [
    "Remarks:\n",
    "\n",
    "- I don't understand it at the moment"
   ]
  },
  {
   "cell_type": "markdown",
   "metadata": {},
   "source": [
    "Export schema as OWL:"
   ]
  },
  {
   "cell_type": "code",
   "execution_count": 4,
   "metadata": {},
   "outputs": [],
   "source": [
    "!gen-owl --no-use-native-uris ch-paf-link/schema.yaml > ch-paf-link/schema.ttl"
   ]
  },
  {
   "cell_type": "markdown",
   "metadata": {},
   "source": [
    "Remarks:\n",
    "\n",
    "- looks good\n",
    "- generates `chpaf:id` predicate that is not necessary in RDF\n",
    "- uses only the `chpaf` prefix and not the ones given in the schema.yaml file"
   ]
  },
  {
   "cell_type": "markdown",
   "metadata": {},
   "source": [
    "## Sessions"
   ]
  },
  {
   "cell_type": "markdown",
   "metadata": {},
   "source": [
    "### Data Conversion"
   ]
  },
  {
   "cell_type": "code",
   "execution_count": 5,
   "metadata": {},
   "outputs": [
    {
     "name": "stderr",
     "output_type": "stream",
     "text": [
      "C:\\Users\\benedikt.hitz\\venvs\\linkml\\Lib\\site-packages\\linkml_runtime\\linkml_model\\model\\schema\\types does not look like a valid URI, trying to serialize this will break.\n",
      "C:\\Users\\benedikt.hitz\\venvs\\linkml\\Lib\\site-packages\\linkml_runtime\\linkml_model\\model\\schema\\types does not look like a valid URI, trying to serialize this will break.\n",
      "C:\\Users\\benedikt.hitz\\venvs\\linkml\\Lib\\site-packages\\linkml_runtime\\linkml_model\\model\\schema\\types does not look like a valid URI, trying to serialize this will break.\n",
      "C:\\Users\\benedikt.hitz\\venvs\\linkml\\Lib\\site-packages\\linkml_runtime\\linkml_model\\model\\schema\\types does not look like a valid URI, trying to serialize this will break.\n",
      "C:\\Users\\benedikt.hitz\\venvs\\linkml\\Lib\\site-packages\\linkml_runtime\\linkml_model\\model\\schema\\types does not look like a valid URI, trying to serialize this will break.\n",
      "C:\\Users\\benedikt.hitz\\venvs\\linkml\\Lib\\site-packages\\linkml_runtime\\linkml_model\\model\\schema\\types does not look like a valid URI, trying to serialize this will break.\n"
     ]
    }
   ],
   "source": [
    "!linkml-convert -s session/schema.yaml -t json session/data.yaml > session/data.json\n",
    "!linkml-convert -s session/schema.yaml -t rdf session/data.yaml > session/data.ttl"
   ]
  },
  {
   "cell_type": "markdown",
   "metadata": {},
   "source": [
    "### Schema Export"
   ]
  },
  {
   "cell_type": "code",
   "execution_count": 6,
   "metadata": {},
   "outputs": [
    {
     "name": "stderr",
     "output_type": "stream",
     "text": [
      "WARNING:rdflib.term:C:\\Users\\benedikt.hitz\\venvs\\linkml\\Lib\\site-packages\\linkml_runtime\\linkml_model\\model\\schema\\types does not look like a valid URI, trying to serialize this will break.\n",
      "WARNING:rdflib.term:C:\\Users\\benedikt.hitz\\venvs\\linkml\\Lib\\site-packages\\linkml_runtime\\linkml_model\\model\\schema\\units does not look like a valid URI, trying to serialize this will break.\n",
      "WARNING:rdflib.term:C:\\Users\\benedikt.hitz\\venvs\\linkml\\Lib\\site-packages\\linkml_runtime\\linkml_model\\model\\schema\\mappings does not look like a valid URI, trying to serialize this will break.\n",
      "WARNING:rdflib.term:C:\\Users\\benedikt.hitz\\venvs\\linkml\\Lib\\site-packages\\linkml_runtime\\linkml_model\\model\\schema\\types does not look like a valid URI, trying to serialize this will break.\n",
      "WARNING:rdflib.term:C:\\Users\\benedikt.hitz\\venvs\\linkml\\Lib\\site-packages\\linkml_runtime\\linkml_model\\model\\schema\\annotations does not look like a valid URI, trying to serialize this will break.\n",
      "WARNING:rdflib.term:C:\\Users\\benedikt.hitz\\venvs\\linkml\\Lib\\site-packages\\linkml_runtime\\linkml_model\\model\\schema\\extensions does not look like a valid URI, trying to serialize this will break.\n",
      "WARNING:rdflib.term:C:\\Users\\benedikt.hitz\\venvs\\linkml\\Lib\\site-packages\\linkml_runtime\\linkml_model\\model\\schema\\types does not look like a valid URI, trying to serialize this will break.\n"
     ]
    }
   ],
   "source": [
    "!gen-owl --no-use-native-uris session/schema.yaml > session/schema.ttl\n",
    "!gen-json-schema session/schema.yaml > session/schema.json"
   ]
  },
  {
   "cell_type": "markdown",
   "metadata": {},
   "source": [
    "### Schema Visualization"
   ]
  },
  {
   "cell_type": "code",
   "execution_count": 22,
   "metadata": {},
   "outputs": [
    {
     "name": "stdout",
     "output_type": "stream",
     "text": [
      "```mermaid\n",
      "erDiagram\n",
      "Container {\n",
      "\n",
      "}\n",
      "Session {\n",
      "    string uid  \n",
      "    string name  \n",
      "}\n",
      "Traktandum {\n",
      "    string uid  \n",
      "    string name  \n",
      "}\n",
      "Abstimmung {\n",
      "    string uid  \n",
      "    string frage  \n",
      "    string resultat  \n",
      "}\n",
      "\n",
      "Container ||--}o Session : \"sessionen\"\n",
      "Session ||--}o Traktandum : \"traktanden\"\n",
      "Traktandum ||--}o Abstimmung : \"abstimmungen\"\n",
      "\n",
      "```\n",
      "\n"
     ]
    },
    {
     "name": "stderr",
     "output_type": "stream",
     "text": [
      "WARNING:rdflib.term:C:\\Users\\benedikt.hitz\\venvs\\linkml\\lib\\site-packages\\linkml_runtime\\linkml_model\\model\\schema\\types does not look like a valid URI, trying to serialize this will break.\n"
     ]
    }
   ],
   "source": [
    "!gen-erdiagram -f markdown session/schema.yaml"
   ]
  },
  {
   "cell_type": "code",
   "execution_count": 4,
   "metadata": {},
   "outputs": [
    {
     "name": "stdout",
     "output_type": "stream",
     "text": [
      "None\n"
     ]
    },
    {
     "name": "stderr",
     "output_type": "stream",
     "text": [
      "WARNING:rdflib.term:C:\\Users\\benedikt.hitz\\venvs\\linkml\\Lib\\site-packages\\linkml_runtime\\linkml_model\\model\\schema\\types does not look like a valid URI, trying to serialize this will break.\n"
     ]
    }
   ],
   "source": [
    "!gen-doc -d session/doc session/schema.yaml"
   ]
  }
 ],
 "metadata": {
  "kernelspec": {
   "display_name": "linkml",
   "language": "python",
   "name": "python3"
  },
  "language_info": {
   "codemirror_mode": {
    "name": "ipython",
    "version": 3
   },
   "file_extension": ".py",
   "mimetype": "text/x-python",
   "name": "python",
   "nbconvert_exporter": "python",
   "pygments_lexer": "ipython3",
   "version": "3.11.11"
  }
 },
 "nbformat": 4,
 "nbformat_minor": 2
}
